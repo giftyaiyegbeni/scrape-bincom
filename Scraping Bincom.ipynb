{
 "cells": [
  {
   "cell_type": "markdown",
   "id": "21add384",
   "metadata": {},
   "source": [
    "## Scrap Bincom Site\n",
    "\n",
    "***You need to scrape different blogs on bincom's blog***\n",
    "\n",
    "**[Bincom](https://blog.bincom.net/)**\n"
   ]
  },
  {
   "cell_type": "code",
   "execution_count": 1,
   "id": "f98ee5ed",
   "metadata": {
    "scrolled": false
   },
   "outputs": [
    {
     "name": "stderr",
     "output_type": "stream",
     "text": [
      "C:\\Users\\Gifty Aiyegbeni\\AppData\\Local\\Temp\\ipykernel_14776\\3738349239.py:11: DeprecationWarning: use options instead of chrome_options\n",
      "  driver = webdriver.Chrome(chrome_options=options, service=Service(ChromeDriverManager().install()))\n"
     ]
    }
   ],
   "source": [
    "from selenium import webdriver\n",
    "from selenium.webdriver.common.keys import Keys\n",
    "from selenium.webdriver.common.by import By\n",
    "from selenium.webdriver.support.ui import WebDriverWait\n",
    "from selenium.webdriver.support import expected_conditions as EC\n",
    "from selenium.webdriver.chrome.service import Service\n",
    "from webdriver_manager.chrome import ChromeDriverManager\n",
    "\n",
    "options = webdriver.ChromeOptions()\n",
    "options.add_experimental_option(\"detach\", True)\n",
    "driver = webdriver.Chrome(chrome_options=options, service=Service(ChromeDriverManager().install()))\n",
    "driver.get('https://blog.bincom.net/')\n",
    "\n",
    "output_dict = {}  # Create an empty dictionary to store the outputs\n",
    "\n",
    "# Scrape the first 2 pages\n",
    "for page in range(1, 11):\n",
    "    # Navigate to the page\n",
    "    url = f\"https://blog.bincom.net/page/{page}/\"\n",
    "    driver.get(url)\n",
    "\n",
    "    # Wait for the blogs to load\n",
    "    WebDriverWait(driver, 10)\n",
    "\n",
    "    blog_items = driver.find_elements(By.CLASS_NAME, 'post-row')\n",
    "    \n",
    "\n",
    "    for blog in blog_items:\n",
    "        articles = blog.find_elements(By.CLASS_NAME, 'post')\n",
    "\n",
    "        for article in articles:\n",
    "            get_link = article.find_element(By.CLASS_NAME, 'post-thumbnail')\n",
    "            click_link = get_link.find_element(By.TAG_NAME, 'a').click()\n",
    "\n",
    "            WebDriverWait(driver, 10)\n",
    "\n",
    "            title = driver.find_element(By.TAG_NAME, \"h1\").text\n",
    "            authors = driver.find_element(By.CLASS_NAME, \"fn\")\n",
    "            author = authors.find_element(By.TAG_NAME, \"a\").text\n",
    "            date = driver.find_element(By.CLASS_NAME, \"published\").text\n",
    "            intros = driver.find_element(By.CLASS_NAME, \"entry-inner\")\n",
    "            intro = intros.find_element(By.TAG_NAME, \"p\").text\n",
    "\n",
    "            # Store the blog post information in the dictionary\n",
    "            output_dict[title] = {\n",
    "                'Author': author,\n",
    "                'Date Published': date,\n",
    "                'Intro Quote': intro\n",
    "            }\n",
    "\n",
    "            driver.back()\n",
    "            WebDriverWait(driver, 10).until(EC.presence_of_element_located((By.CLASS_NAME, 'post-row')))\n",
    "\n",
    "# Close the browser\n",
    "driver.quit()\n",
    "\n",
    "# Print the saved outputs\n",
    "#for title, info in output_dict.items():\n",
    "    #print(\"Title:\", title)\n",
    "    #print(\"Author:\", info['Author'])\n",
    "    #print(\"Date Published:\", info['Date Published'])\n",
    "    #print(\"Intro Quote:\", info['Intro Quote'])\n",
    "    #print(\" \")\n"
   ]
  },
  {
   "cell_type": "code",
   "execution_count": 2,
   "id": "92931e6a",
   "metadata": {},
   "outputs": [],
   "source": [
    "import csv"
   ]
  },
  {
   "cell_type": "code",
   "execution_count": 3,
   "id": "986d4aa6",
   "metadata": {},
   "outputs": [
    {
     "name": "stdout",
     "output_type": "stream",
     "text": [
      "Data saved to weekly_tech_update.csv successfully.\n"
     ]
    }
   ],
   "source": [
    "filename = 'weekly_tech_update.csv'\n",
    "\n",
    "with open(filename, 'w', newline='', encoding='utf-8') as csvfile:\n",
    "    writer = csv.writer(csvfile)\n",
    "    writer.writerow(['Title', 'Author', 'Date Published', 'Intro Quote'])\n",
    "\n",
    "    for title, info in output_dict.items():\n",
    "        writer.writerow([title, info['Author'], info['Date Published'], info['Intro Quote']])\n",
    "\n",
    "print(f'Data saved to {filename} successfully.')"
   ]
  },
  {
   "cell_type": "code",
   "execution_count": null,
   "id": "fa3d8cdb",
   "metadata": {},
   "outputs": [],
   "source": []
  }
 ],
 "metadata": {
  "kernelspec": {
   "display_name": "Python 3 (ipykernel)",
   "language": "python",
   "name": "python3"
  },
  "language_info": {
   "codemirror_mode": {
    "name": "ipython",
    "version": 3
   },
   "file_extension": ".py",
   "mimetype": "text/x-python",
   "name": "python",
   "nbconvert_exporter": "python",
   "pygments_lexer": "ipython3",
   "version": "3.9.13"
  }
 },
 "nbformat": 4,
 "nbformat_minor": 5
}
